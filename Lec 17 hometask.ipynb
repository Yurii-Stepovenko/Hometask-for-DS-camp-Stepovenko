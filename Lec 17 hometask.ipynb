{
 "cells": [
  {
   "cell_type": "code",
   "execution_count": 92,
   "id": "1c15d952",
   "metadata": {},
   "outputs": [],
   "source": [
    "import pandas as pd"
   ]
  },
  {
   "cell_type": "code",
   "execution_count": 93,
   "id": "9d65d34a",
   "metadata": {},
   "outputs": [],
   "source": [
    "# Loading dataset\n",
    "df = pd.read_csv(\"Groceries_dataset.csv\")"
   ]
  },
  {
   "cell_type": "code",
   "execution_count": 94,
   "id": "b604aa39",
   "metadata": {},
   "outputs": [
    {
     "name": "stdout",
     "output_type": "stream",
     "text": [
      "5 first rows:\n",
      "   Member_number        Date   itemDescription\n",
      "0           1808  21-07-2015    tropical fruit\n",
      "1           2552  05-01-2015        whole milk\n",
      "2           2300  19-09-2015         pip fruit\n",
      "3           1187  12-12-2015  other vegetables\n",
      "4           3037  01-02-2015        whole milk\n"
     ]
    }
   ],
   "source": [
    "# Analysing dataset\n",
    "print(\"5 first rows:\")\n",
    "print(df.head())"
   ]
  },
  {
   "cell_type": "code",
   "execution_count": 95,
   "id": "28a049b2",
   "metadata": {},
   "outputs": [
    {
     "name": "stdout",
     "output_type": "stream",
     "text": [
      "\n",
      " information about dataset:\n",
      "<class 'pandas.core.frame.DataFrame'>\n",
      "RangeIndex: 38765 entries, 0 to 38764\n",
      "Data columns (total 3 columns):\n",
      " #   Column           Non-Null Count  Dtype \n",
      "---  ------           --------------  ----- \n",
      " 0   Member_number    38765 non-null  int64 \n",
      " 1   Date             38765 non-null  object\n",
      " 2   itemDescription  38765 non-null  object\n",
      "dtypes: int64(1), object(2)\n",
      "memory usage: 908.7+ KB\n",
      "None\n"
     ]
    }
   ],
   "source": [
    "# Overall information\n",
    "print(\"\\n information about dataset:\")\n",
    "print(df.info())"
   ]
  },
  {
   "cell_type": "code",
   "execution_count": 96,
   "id": "c809a64e",
   "metadata": {},
   "outputs": [
    {
     "name": "stdout",
     "output_type": "stream",
     "text": [
      " Statistics:\n",
      "        Member_number        Date itemDescription\n",
      "count    38765.000000       38765           38765\n",
      "unique            NaN         728             167\n",
      "top               NaN  21-01-2015      whole milk\n",
      "freq              NaN          96            2502\n",
      "mean      3003.641868         NaN             NaN\n",
      "std       1153.611031         NaN             NaN\n",
      "min       1000.000000         NaN             NaN\n",
      "25%       2002.000000         NaN             NaN\n",
      "50%       3005.000000         NaN             NaN\n",
      "75%       4007.000000         NaN             NaN\n",
      "max       5000.000000         NaN             NaN\n"
     ]
    }
   ],
   "source": [
    "# Statistics\n",
    "print(\" Statistics:\")\n",
    "print(df.describe(include='all'))"
   ]
  },
  {
   "cell_type": "code",
   "execution_count": 97,
   "id": "dc985067",
   "metadata": {},
   "outputs": [
    {
     "name": "stdout",
     "output_type": "stream",
     "text": [
      "\n",
      "🔹 Amount of empty spaces::\n",
      "Member_number      0\n",
      "Date               0\n",
      "itemDescription    0\n",
      "dtype: int64\n"
     ]
    }
   ],
   "source": [
    "#Checking for empty spaces\n",
    "print(\"\\n🔹 Amount of empty spaces::\")\n",
    "print(df.isnull().sum())"
   ]
  },
  {
   "cell_type": "code",
   "execution_count": 98,
   "id": "a3ac996a",
   "metadata": {},
   "outputs": [],
   "source": [
    "# Grouping products by each purchase (unique association of buyer and date)\n",
    "transactions = df.groupby(['Member_number', 'Date'])['itemDescription'].apply(list).reset_index()"
   ]
  },
  {
   "cell_type": "code",
   "execution_count": 99,
   "id": "116d539f",
   "metadata": {},
   "outputs": [],
   "source": [
    "# Adding \"basket\" column\n",
    "transactions.rename(columns={'itemDescription': 'Basket'}, inplace=True)"
   ]
  },
  {
   "cell_type": "code",
   "execution_count": 100,
   "id": "730d58ac",
   "metadata": {},
   "outputs": [
    {
     "name": "stdout",
     "output_type": "stream",
     "text": [
      "Baskets:\n",
      "   Member_number        Date  \\\n",
      "0           1000  15-03-2015   \n",
      "1           1000  24-06-2014   \n",
      "2           1000  24-07-2015   \n",
      "3           1000  25-11-2015   \n",
      "4           1000  27-05-2015   \n",
      "\n",
      "                                              Basket  \n",
      "0  [sausage, whole milk, semi-finished bread, yog...  \n",
      "1                  [whole milk, pastry, salty snack]  \n",
      "2                     [canned beer, misc. beverages]  \n",
      "3                        [sausage, hygiene articles]  \n",
      "4                         [soda, pickled vegetables]  \n"
     ]
    }
   ],
   "source": [
    "# printing first 5 baskets\n",
    "print(\"Baskets:\")\n",
    "print(transactions.head())"
   ]
  },
  {
   "cell_type": "code",
   "execution_count": 101,
   "id": "1091e7d5",
   "metadata": {},
   "outputs": [],
   "source": [
    "from mlxtend.preprocessing import TransactionEncoder"
   ]
  },
  {
   "cell_type": "code",
   "execution_count": 102,
   "id": "108a6617",
   "metadata": {},
   "outputs": [],
   "source": [
    "# Extracting only the list of baskets\n",
    "basket_list = transactions['Basket'].tolist()"
   ]
  },
  {
   "cell_type": "code",
   "execution_count": 103,
   "id": "5b02fa9d",
   "metadata": {},
   "outputs": [],
   "source": [
    "# Transformer initialization\n",
    "te = TransactionEncoder()\n",
    "te_array = te.fit(basket_list).transform(basket_list)"
   ]
  },
  {
   "cell_type": "code",
   "execution_count": 104,
   "id": "9942a2df",
   "metadata": {},
   "outputs": [],
   "source": [
    "# Creating a one-hot DataFrame\n",
    "basket_df = pd.DataFrame(te_array, columns=te.columns_)"
   ]
  },
  {
   "cell_type": "code",
   "execution_count": 105,
   "id": "73e2ae8a",
   "metadata": {},
   "outputs": [
    {
     "name": "stdout",
     "output_type": "stream",
     "text": [
      "Shape of one-hot matrix: (14963, 167)\n",
      "First 5 rows of matrix:\n",
      "   Instant food products  UHT-milk  abrasive cleaner  artif. sweetener  \\\n",
      "0                  False     False             False             False   \n",
      "1                  False     False             False             False   \n",
      "2                  False     False             False             False   \n",
      "3                  False     False             False             False   \n",
      "4                  False     False             False             False   \n",
      "\n",
      "   baby cosmetics   bags  baking powder  bathroom cleaner   beef  berries  \\\n",
      "0           False  False          False             False  False    False   \n",
      "1           False  False          False             False  False    False   \n",
      "2           False  False          False             False  False    False   \n",
      "3           False  False          False             False  False    False   \n",
      "4           False  False          False             False  False    False   \n",
      "\n",
      "   ...  turkey  vinegar  waffles  whipped/sour cream  whisky  white bread  \\\n",
      "0  ...   False    False    False               False   False        False   \n",
      "1  ...   False    False    False               False   False        False   \n",
      "2  ...   False    False    False               False   False        False   \n",
      "3  ...   False    False    False               False   False        False   \n",
      "4  ...   False    False    False               False   False        False   \n",
      "\n",
      "   white wine  whole milk  yogurt  zwieback  \n",
      "0       False        True    True     False  \n",
      "1       False        True   False     False  \n",
      "2       False       False   False     False  \n",
      "3       False       False   False     False  \n",
      "4       False       False   False     False  \n",
      "\n",
      "[5 rows x 167 columns]\n"
     ]
    }
   ],
   "source": [
    "#Checking the size and first lines\n",
    "print(\"Shape of one-hot matrix:\", basket_df.shape)\n",
    "print(\"First 5 rows of matrix:\")\n",
    "print(basket_df.head())"
   ]
  },
  {
   "cell_type": "code",
   "execution_count": 106,
   "id": "04e0ebaf",
   "metadata": {},
   "outputs": [],
   "source": [
    "from mlxtend.frequent_patterns import apriori"
   ]
  },
  {
   "cell_type": "code",
   "execution_count": 107,
   "id": "ad56fb2e",
   "metadata": {},
   "outputs": [],
   "source": [
    "# We perform Apriori to find frequent product sets\n",
    "frequent_itemsets = apriori(basket_df, min_support=0.002, use_colnames=True)"
   ]
  },
  {
   "cell_type": "code",
   "execution_count": 108,
   "id": "40daf4ec",
   "metadata": {},
   "outputs": [
    {
     "name": "stdout",
     "output_type": "stream",
     "text": [
      "Most popular products: 330\n",
      " Top 10 results:\n",
      "      support            itemsets\n",
      "123  0.157923        (whole milk)\n",
      "78   0.122101  (other vegetables)\n",
      "93   0.110005        (rolls/buns)\n",
      "104  0.097106              (soda)\n",
      "124  0.085879            (yogurt)\n",
      "94   0.069572   (root vegetables)\n",
      "116  0.067767    (tropical fruit)\n",
      "7    0.060683     (bottled water)\n",
      "99   0.060349           (sausage)\n",
      "24   0.053131      (citrus fruit)\n"
     ]
    }
   ],
   "source": [
    "# Results:\n",
    "print(\"Most popular products:\", len(frequent_itemsets))\n",
    "print(\" Top 10 results:\")\n",
    "print(frequent_itemsets.sort_values(by=\"support\", ascending=False).head(10))"
   ]
  },
  {
   "cell_type": "code",
   "execution_count": 109,
   "id": "69e9e72a",
   "metadata": {},
   "outputs": [],
   "source": [
    "from mlxtend.frequent_patterns import association_rules"
   ]
  },
  {
   "cell_type": "code",
   "execution_count": 110,
   "id": "fb32d51f",
   "metadata": {},
   "outputs": [],
   "source": [
    "# Generating association rules\n",
    "rules = association_rules(frequent_itemsets, metric=\"lift\", min_threshold=1.0)"
   ]
  },
  {
   "cell_type": "code",
   "execution_count": 111,
   "id": "1f675b12",
   "metadata": {},
   "outputs": [],
   "source": [
    "# Sort by the lift metric in descending order\n",
    "top_rules = rules.sort_values(by=\"lift\", ascending=False).head(10)"
   ]
  },
  {
   "cell_type": "code",
   "execution_count": 112,
   "id": "da239ae9",
   "metadata": {},
   "outputs": [
    {
     "name": "stdout",
     "output_type": "stream",
     "text": [
      "10 rules with:\n",
      "            antecedents          consequents   support  confidence      lift\n",
      "12               (curd)            (sausage)  0.002941    0.087302  1.446615\n",
      "13            (sausage)               (curd)  0.002941    0.048726  1.446615\n",
      "4         (brown bread)        (canned beer)  0.002406    0.063943  1.362937\n",
      "5         (canned beer)        (brown bread)  0.002406    0.051282  1.362937\n",
      "21  (frozen vegetables)            (sausage)  0.002072    0.073986  1.225966\n",
      "20            (sausage)  (frozen vegetables)  0.002072    0.034330  1.225966\n",
      "2        (bottled beer)            (sausage)  0.003342    0.073746  1.222000\n",
      "3             (sausage)       (bottled beer)  0.003342    0.055371  1.222000\n",
      "15        (frankfurter)   (other vegetables)  0.005146    0.136283  1.116150\n",
      "14   (other vegetables)        (frankfurter)  0.005146    0.042146  1.116150\n"
     ]
    }
   ],
   "source": [
    "# top 10 rules:\n",
    "print(\"10 rules with:\")\n",
    "print(top_rules[['antecedents', 'consequents', 'support', 'confidence', 'lift']])"
   ]
  }
 ],
 "metadata": {
  "kernelspec": {
   "display_name": "Python 3",
   "language": "python",
   "name": "python3"
  },
  "language_info": {
   "codemirror_mode": {
    "name": "ipython",
    "version": 3
   },
   "file_extension": ".py",
   "mimetype": "text/x-python",
   "name": "python",
   "nbconvert_exporter": "python",
   "pygments_lexer": "ipython3",
   "version": "3.12.2"
  }
 },
 "nbformat": 4,
 "nbformat_minor": 5
}
