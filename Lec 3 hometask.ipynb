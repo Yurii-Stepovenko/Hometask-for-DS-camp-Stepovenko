{
 "cells": [
  {
   "cell_type": "markdown",
   "metadata": {},
   "source": [
    "#Task for lecture 3."
   ]
  },
  {
   "cell_type": "code",
   "execution_count": 15,
   "metadata": {},
   "outputs": [
    {
     "name": "stdout",
     "output_type": "stream",
     "text": [
      "                             2     3    4           5\n",
      "0                  Afghanistan   321   10   78.669280\n",
      "1                      Albania   102   35  100.000000\n",
      "2                      Algeria  1959   51    0.551010\n",
      "3               American Samoa   ...  ...    0.641026\n",
      "4                      Andorra     9  121   88.695650\n",
      "..                         ...   ...  ...         ...\n",
      "222                   Viet Nam  2554   28   45.321520\n",
      "223  Wallis and Futuna Islands     0   26    0.000000\n",
      "224                      Yemen   344   13    0.000000\n",
      "225                     Zambia   400   26   99.714670\n",
      "226                   Zimbabwe   480   32   52.536120\n",
      "\n",
      "[227 rows x 4 columns]\n"
     ]
    }
   ],
   "source": [
    "#import libraries and data from excel file.\n",
    "import numpy as np\n",
    "import os\n",
    "import pandas as pd \n",
    "import re as re\n",
    "energy = pd.read_excel(\"Energy Indicators.xls\" ,\n",
    "skiprows= 18, \n",
    "skipfooter= 38, \n",
    "usecols= \"C:F\", \n",
    "header= None)\n",
    "\n",
    "print(energy)"
   ]
  },
  {
   "cell_type": "code",
   "execution_count": 16,
   "metadata": {},
   "outputs": [
    {
     "name": "stdout",
     "output_type": "stream",
     "text": [
      "                       Country Energy Supply Energy Supply per Capita  \\\n",
      "0                  Afghanistan           321                       10   \n",
      "1                      Albania           102                       35   \n",
      "2                      Algeria          1959                       51   \n",
      "3               American Samoa           ...                      ...   \n",
      "4                      Andorra             9                      121   \n",
      "..                         ...           ...                      ...   \n",
      "222                   Viet Nam          2554                       28   \n",
      "223  Wallis and Futuna Islands             0                       26   \n",
      "224                      Yemen           344                       13   \n",
      "225                     Zambia           400                       26   \n",
      "226                   Zimbabwe           480                       32   \n",
      "\n",
      "     % Renewable  \n",
      "0      78.669280  \n",
      "1     100.000000  \n",
      "2       0.551010  \n",
      "3       0.641026  \n",
      "4      88.695650  \n",
      "..           ...  \n",
      "222    45.321520  \n",
      "223     0.000000  \n",
      "224     0.000000  \n",
      "225    99.714670  \n",
      "226    52.536120  \n",
      "\n",
      "[227 rows x 4 columns]\n"
     ]
    }
   ],
   "source": [
    "# Renaming rows\n",
    "energy.columns = ['Country', 'Energy Supply', 'Energy Supply per Capita', '% Renewable']\n",
    "print(energy)"
   ]
  },
  {
   "cell_type": "code",
   "execution_count": 17,
   "metadata": {},
   "outputs": [
    {
     "name": "stdout",
     "output_type": "stream",
     "text": [
      "0                                              321000000\n",
      "1                                              102000000\n",
      "2                                             1959000000\n",
      "3      .................................................\n",
      "4                                                9000000\n",
      "                             ...                        \n",
      "222                                           2554000000\n",
      "223                                                    0\n",
      "224                                            344000000\n",
      "225                                            400000000\n",
      "226                                            480000000\n",
      "Name: Energy Supply, Length: 227, dtype: object\n"
     ]
    }
   ],
   "source": [
    "#Converting petajoules to gigajoules\n",
    "energy[\"Energy Supply\"]*= 1000000\n",
    "print (energy[\"Energy Supply\"])"
   ]
  },
  {
   "cell_type": "code",
   "execution_count": 18,
   "metadata": {},
   "outputs": [
    {
     "name": "stdout",
     "output_type": "stream",
     "text": [
      "                       Country  \\\n",
      "0                  Afghanistan   \n",
      "1                      Albania   \n",
      "2                      Algeria   \n",
      "3               American Samoa   \n",
      "4                      Andorra   \n",
      "..                         ...   \n",
      "222                   Viet Nam   \n",
      "223  Wallis and Futuna Islands   \n",
      "224                      Yemen   \n",
      "225                     Zambia   \n",
      "226                   Zimbabwe   \n",
      "\n",
      "                                         Energy Supply  \\\n",
      "0                                            321000000   \n",
      "1                                            102000000   \n",
      "2                                           1959000000   \n",
      "3    .................................................   \n",
      "4                                              9000000   \n",
      "..                                                 ...   \n",
      "222                                         2554000000   \n",
      "223                                                  0   \n",
      "224                                          344000000   \n",
      "225                                          400000000   \n",
      "226                                          480000000   \n",
      "\n",
      "     Energy Supply per Capita  % Renewable  \n",
      "0                        10.0    78.669280  \n",
      "1                        35.0   100.000000  \n",
      "2                        51.0     0.551010  \n",
      "3                         NaN     0.641026  \n",
      "4                       121.0    88.695650  \n",
      "..                        ...          ...  \n",
      "222                      28.0    45.321520  \n",
      "223                      26.0     0.000000  \n",
      "224                      13.0     0.000000  \n",
      "225                      26.0    99.714670  \n",
      "226                      32.0    52.536120  \n",
      "\n",
      "[227 rows x 4 columns]\n"
     ]
    },
    {
     "name": "stderr",
     "output_type": "stream",
     "text": [
      "C:\\Users\\Admin\\AppData\\Local\\Temp\\ipykernel_16968\\2048749143.py:2: FutureWarning: Downcasting behavior in `replace` is deprecated and will be removed in a future version. To retain the old behavior, explicitly call `result.infer_objects(copy=False)`. To opt-in to the future behavior, set `pd.set_option('future.no_silent_downcasting', True)`\n",
      "  energy.replace(\"...\", np.nan, inplace=True)\n"
     ]
    }
   ],
   "source": [
    "#changing missing data to NaN\n",
    "energy.replace(\"...\", np.nan, inplace=True)\n",
    "print(energy)"
   ]
  },
  {
   "cell_type": "code",
   "execution_count": 19,
   "metadata": {},
   "outputs": [
    {
     "name": "stdout",
     "output_type": "stream",
     "text": [
      "                       Country  \\\n",
      "0                  Afghanistan   \n",
      "1                      Albania   \n",
      "2                      Algeria   \n",
      "3               American Samoa   \n",
      "4                      Andorra   \n",
      "..                         ...   \n",
      "222                   Viet Nam   \n",
      "223  Wallis and Futuna Islands   \n",
      "224                      Yemen   \n",
      "225                     Zambia   \n",
      "226                   Zimbabwe   \n",
      "\n",
      "                                         Energy Supply  \\\n",
      "0                                            321000000   \n",
      "1                                            102000000   \n",
      "2                                           1959000000   \n",
      "3    .................................................   \n",
      "4                                              9000000   \n",
      "..                                                 ...   \n",
      "222                                         2554000000   \n",
      "223                                                  0   \n",
      "224                                          344000000   \n",
      "225                                          400000000   \n",
      "226                                          480000000   \n",
      "\n",
      "     Energy Supply per Capita  % Renewable  \n",
      "0                        10.0    78.669280  \n",
      "1                        35.0   100.000000  \n",
      "2                        51.0     0.551010  \n",
      "3                         NaN     0.641026  \n",
      "4                       121.0    88.695650  \n",
      "..                        ...          ...  \n",
      "222                      28.0    45.321520  \n",
      "223                      26.0     0.000000  \n",
      "224                      13.0     0.000000  \n",
      "225                      26.0    99.714670  \n",
      "226                      32.0    52.536120  \n",
      "\n",
      "[227 rows x 4 columns]\n"
     ]
    }
   ],
   "source": [
    "# Renaming countries and deleting excessive data\n",
    "country_rename = {\n",
    "    \"Republic of Korea\": \"South Korea\",\n",
    "    \"United States of America\": \"United States\",\n",
    "    \"United Kingdom of Great Britain and Northern Ireland\": \"United Kingdom\",\n",
    "    \"China, Hong Kong Special Administrative Region\": \"Hong Kong\"\n",
    "}\n",
    "\n",
    "def clean_country(name):\n",
    "    name = re.sub(r'\\d+', '', name)  # Deleting numbers\n",
    "    name = re.sub(r'\\s*\\(.*\\)', '', name)  # Deleting brackets and what is in it\n",
    "    return name.strip()\n",
    "\n",
    "energy['Country'] = energy['Country'].apply(clean_country)\n",
    "energy['Country'] = energy['Country'].replace(country_rename)\n",
    "\n",
    "print(energy)"
   ]
  },
  {
   "cell_type": "code",
   "execution_count": 20,
   "metadata": {},
   "outputs": [
    {
     "name": "stdout",
     "output_type": "stream",
     "text": [
      "                    Country Name Country Code     Indicator Name  \\\n",
      "0                          Aruba          ABW  GDP (current US$)   \n",
      "1    Africa Eastern and Southern          AFE  GDP (current US$)   \n",
      "2                    Afghanistan          AFG  GDP (current US$)   \n",
      "3     Africa Western and Central          AFW  GDP (current US$)   \n",
      "4                         Angola          AGO  GDP (current US$)   \n",
      "..                           ...          ...                ...   \n",
      "261                       Kosovo          XKX  GDP (current US$)   \n",
      "262                  Yemen, Rep.          YEM  GDP (current US$)   \n",
      "263                 South Africa          ZAF  GDP (current US$)   \n",
      "264                       Zambia          ZMB  GDP (current US$)   \n",
      "265                     Zimbabwe          ZWE  GDP (current US$)   \n",
      "\n",
      "     Indicator Code          1960          1961          1962          1963  \\\n",
      "0    NY.GDP.MKTP.CD           NaN           NaN           NaN           NaN   \n",
      "1    NY.GDP.MKTP.CD  2.421063e+10  2.496398e+10  2.707880e+10  3.177575e+10   \n",
      "2    NY.GDP.MKTP.CD           NaN           NaN           NaN           NaN   \n",
      "3    NY.GDP.MKTP.CD  1.190495e+10  1.270788e+10  1.363076e+10  1.446909e+10   \n",
      "4    NY.GDP.MKTP.CD           NaN           NaN           NaN           NaN   \n",
      "..              ...           ...           ...           ...           ...   \n",
      "261  NY.GDP.MKTP.CD           NaN           NaN           NaN           NaN   \n",
      "262  NY.GDP.MKTP.CD           NaN           NaN           NaN           NaN   \n",
      "263  NY.GDP.MKTP.CD  8.748597e+09  9.225996e+09  9.813996e+09  1.085420e+10   \n",
      "264  NY.GDP.MKTP.CD  6.987397e+08  6.823597e+08  6.792797e+08  7.043397e+08   \n",
      "265  NY.GDP.MKTP.CD  1.052990e+09  1.096647e+09  1.117602e+09  1.159512e+09   \n",
      "\n",
      "             1964          1965  ...          2015          2016  \\\n",
      "0             NaN           NaN  ...  2.962907e+09  2.983635e+09   \n",
      "1    3.028579e+10  3.381317e+10  ...  8.982778e+11  8.289428e+11   \n",
      "2             NaN           NaN  ...  1.913422e+10  1.811657e+10   \n",
      "3    1.580376e+10  1.692109e+10  ...  7.717669e+11  6.943610e+11   \n",
      "4             NaN           NaN  ...  9.049642e+10  5.276162e+10   \n",
      "..            ...           ...  ...           ...           ...   \n",
      "261           NaN           NaN  ...  6.295848e+09  6.682677e+09   \n",
      "262           NaN           NaN  ...  4.244449e+10  3.131782e+10   \n",
      "263  1.195600e+10  1.306899e+10  ...  3.467098e+11  3.235855e+11   \n",
      "264  8.226397e+08  1.061200e+09  ...  2.125122e+10  2.095841e+10   \n",
      "265  1.217138e+09  1.311436e+09  ...  1.996312e+10  2.054868e+10   \n",
      "\n",
      "             2017          2018          2019          2020          2021  \\\n",
      "0    3.092429e+09  3.276184e+09  3.395799e+09  2.481857e+09  2.929447e+09   \n",
      "1    9.729989e+11  1.012306e+12  1.009721e+12  9.333918e+11  1.085745e+12   \n",
      "2    1.875346e+10  1.805322e+10  1.879944e+10  1.995593e+10  1.426000e+10   \n",
      "3    6.878492e+11  7.704950e+11  8.264838e+11  7.898017e+11  8.493124e+11   \n",
      "4    7.369015e+10  7.945069e+10  7.089796e+10  4.850156e+10  6.650513e+10   \n",
      "..            ...           ...           ...           ...           ...   \n",
      "261  7.180765e+09  7.878760e+09  7.899738e+09  7.717145e+09  9.413404e+09   \n",
      "262  2.684223e+10  2.160616e+10           NaN           NaN           NaN   \n",
      "263  3.814488e+11  4.052607e+11  3.893300e+11  3.379747e+11  4.208869e+11   \n",
      "264  2.587360e+10  2.631151e+10  2.330867e+10  1.813776e+10  2.209642e+10   \n",
      "265  5.107466e+10  3.415607e+10  2.571741e+10  2.686794e+10  2.724052e+10   \n",
      "\n",
      "             2022          2023  Unnamed: 68  \n",
      "0    3.279344e+09  3.648573e+09          NaN  \n",
      "1    1.191423e+12  1.245472e+12          NaN  \n",
      "2    1.449724e+10  1.723305e+10          NaN  \n",
      "3    8.839739e+11  7.991060e+11          NaN  \n",
      "4    1.043997e+11  8.482465e+10          NaN  \n",
      "..            ...           ...          ...  \n",
      "261  9.354903e+09  1.046822e+10          NaN  \n",
      "262           NaN           NaN          NaN  \n",
      "263  4.069200e+11  3.806993e+11          NaN  \n",
      "264  2.916378e+10  2.757796e+10          NaN  \n",
      "265  3.278975e+10  3.523137e+10          NaN  \n",
      "\n",
      "[266 rows x 69 columns]\n"
     ]
    }
   ],
   "source": [
    "#Adding new file\n",
    "GDP = pd.read_csv(\"API_NY.GDP.MKTP.CD_DS2_en_csv_v2_76261.csv\" , skiprows=4 )\n",
    "#Renaming countries\n",
    "country_rename_for_gdp = {\n",
    "    \"Korea, Rep.\" : \"South Korea\",\n",
    "    \"Iran, Islamic Rep\": \"Iran\",\n",
    "    \"Hong Kong SAR, China\": \"Hong Kong\",\n",
    "}\n",
    "\n",
    "GDP[\"Country Name\"] = GDP[\"Country Name\"].replace(country_rename_for_gdp)\n",
    "print (GDP)"
   ]
  },
  {
   "cell_type": "code",
   "execution_count": 21,
   "metadata": {},
   "outputs": [
    {
     "name": "stdout",
     "output_type": "stream",
     "text": [
      "                    Country Name          2006          2007          2008  \\\n",
      "0                          Aruba  2.469783e+09  2.677641e+09  2.843025e+09   \n",
      "1    Africa Eastern and Southern  5.802408e+11  6.655987e+11  7.135021e+11   \n",
      "2                    Afghanistan  6.971758e+09  9.747886e+09  1.010930e+10   \n",
      "3     Africa Western and Central  3.981397e+11  4.668837e+11  5.693217e+11   \n",
      "4                         Angola  5.238103e+10  6.526642e+10  8.853867e+10   \n",
      "..                           ...           ...           ...           ...   \n",
      "261                       Kosovo           NaN           NaN  5.181777e+09   \n",
      "262                  Yemen, Rep.  1.906314e+10  2.165053e+10  2.691086e+10   \n",
      "263                 South Africa  3.038587e+11  3.330771e+11  3.161313e+11   \n",
      "264                       Zambia  1.275686e+10  1.405696e+10  1.791086e+10   \n",
      "265                     Zimbabwe  5.443896e+09  5.291950e+09  4.415703e+09   \n",
      "\n",
      "             2009          2010          2011          2012          2013  \\\n",
      "0    2.553793e+09  2.453597e+09  2.637859e+09  2.615208e+09  2.727850e+09   \n",
      "1    7.154853e+11  8.494097e+11  9.454391e+11  9.529986e+11  9.623949e+11   \n",
      "2    1.241615e+10  1.585667e+10  1.780510e+10  1.990733e+10  2.014642e+10   \n",
      "3    5.099177e+11  6.001527e+11  6.838881e+11  7.399381e+11  8.369374e+11   \n",
      "4    7.030720e+10  8.379947e+10  1.117897e+11  1.280529e+11  1.323391e+11   \n",
      "..            ...           ...           ...           ...           ...   \n",
      "261  5.015895e+09  5.343951e+09  6.341614e+09  6.163484e+09  6.735329e+09   \n",
      "262  2.513028e+10  3.090675e+10  3.272642e+10  3.540133e+10  4.041523e+10   \n",
      "263  3.297541e+11  4.173638e+11  4.581995e+11  4.344005e+11  4.008860e+11   \n",
      "264  1.532834e+10  2.026556e+10  2.345952e+10  2.550306e+10  2.803724e+10   \n",
      "265  9.665793e+09  1.204166e+10  1.410192e+10  1.711485e+10  1.909102e+10   \n",
      "\n",
      "             2014          2015  \n",
      "0    2.790850e+09  2.962907e+09  \n",
      "1    9.787083e+11  8.982778e+11  \n",
      "2    2.049713e+10  1.913422e+10  \n",
      "3    8.974157e+11  7.717669e+11  \n",
      "4    1.359668e+11  9.049642e+10  \n",
      "..            ...           ...  \n",
      "261  7.074395e+09  6.295848e+09  \n",
      "262  4.322859e+10  4.244449e+10  \n",
      "263  3.811989e+11  3.467098e+11  \n",
      "264  2.714102e+10  2.125122e+10  \n",
      "265  1.949552e+10  1.996312e+10  \n",
      "\n",
      "[266 rows x 11 columns]\n"
     ]
    }
   ],
   "source": [
    "columns_to_keep = ['Country Name'] + [str(year) for year in range(2006, 2016)]\n",
    "GDP = GDP[columns_to_keep]\n",
    "print(GDP)"
   ]
  },
  {
   "cell_type": "code",
   "execution_count": 22,
   "metadata": {},
   "outputs": [
    {
     "name": "stdout",
     "output_type": "stream",
     "text": [
      "                    Rank  Documents  Citable documents  Citations  \\\n",
      "Country                                                             \n",
      "China                  1     402188             400158    5077232   \n",
      "United States          2     208042             203356    3540288   \n",
      "India                  3      81853              79757     968523   \n",
      "Japan                  4      58342              57735     717946   \n",
      "United Kingdom         5      56288              54713    1095371   \n",
      "Germany                6      50906              49773     777362   \n",
      "Russian Federation     7      46186              45868     217996   \n",
      "Canada                 8      41209              40390     915491   \n",
      "Italy                  9      38700              36909     639473   \n",
      "South Korea           10      38362              38046     618762   \n",
      "France                12      30810              30139     547122   \n",
      "Spain                 13      29840              29156     614087   \n",
      "Australia             14      27993              27254     608021   \n",
      "Brazil                15      27316              26888     307607   \n",
      "\n",
      "                    Self-citations  Citations per document  H index  \\\n",
      "Country                                                               \n",
      "China                      3511673                   12.62      343   \n",
      "United States              1004877                   17.02      458   \n",
      "India                       369256                   11.83      237   \n",
      "Japan                       154848                   12.31      228   \n",
      "United Kingdom              179764                   19.46      293   \n",
      "Germany                     160302                   15.27      252   \n",
      "Russian Federation           96688                    4.72      112   \n",
      "Canada                      142691                   22.22      284   \n",
      "Italy                       147302                   16.52      209   \n",
      "South Korea                 105419                   16.13      198   \n",
      "France                       89958                   17.76      221   \n",
      "Spain                       104845                   20.58      216   \n",
      "Australia                    84747                   21.72      234   \n",
      "Brazil                       71778                   11.26      154   \n",
      "\n",
      "                   Energy Supply  Energy Supply per Capita  % Renewable  \\\n",
      "Country                                                                   \n",
      "China               127191000000                      93.0    19.754910   \n",
      "United States        90838000000                     286.0    11.570980   \n",
      "India                33195000000                      26.0    14.969080   \n",
      "Japan                18984000000                     149.0    10.232820   \n",
      "United Kingdom        7920000000                     124.0    10.600470   \n",
      "Germany              13261000000                     165.0    17.901530   \n",
      "Russian Federation   30709000000                     214.0    17.288680   \n",
      "Canada               10431000000                     296.0    61.945430   \n",
      "Italy                 6530000000                     109.0    33.667230   \n",
      "South Korea          11007000000                     221.0     2.279353   \n",
      "France               10597000000                     166.0    17.020280   \n",
      "Spain                 4923000000                     106.0    37.968590   \n",
      "Australia             5386000000                     231.0    11.810810   \n",
      "Brazil               12149000000                      59.0    69.648030   \n",
      "\n",
      "                            2006          2007          2008          2009  \\\n",
      "Country                                                                      \n",
      "China               2.752119e+12  3.550328e+12  4.594337e+12  5.101691e+12   \n",
      "United States       1.381558e+13  1.447423e+13  1.476986e+13  1.447807e+13   \n",
      "India               9.402599e+11  1.216736e+12  1.198895e+12  1.341888e+12   \n",
      "Japan               4.601663e+12  4.579751e+12  5.106679e+12  5.289493e+12   \n",
      "United Kingdom      2.708442e+12  3.090510e+12  2.929412e+12  2.412840e+12   \n",
      "Germany             3.046309e+12  3.484057e+12  3.808786e+12  3.479801e+12   \n",
      "Russian Federation  9.899321e+11  1.299703e+12  1.660848e+12  1.222646e+12   \n",
      "Canada              1.319265e+12  1.468820e+12  1.552990e+12  1.374625e+12   \n",
      "Italy               1.958564e+12  2.222524e+12  2.417508e+12  2.209484e+12   \n",
      "South Korea         1.053217e+12  1.172614e+12  1.047339e+12  9.439419e+11   \n",
      "France              2.317862e+12  2.655817e+12  2.926803e+12  2.700076e+12   \n",
      "Spain               1.261847e+12  1.476746e+12  1.636115e+12  1.496588e+12   \n",
      "Australia           7.484176e+11  8.550075e+11  1.056112e+12  9.287621e+11   \n",
      "Brazil              1.107627e+12  1.397114e+12  1.695855e+12  1.666996e+12   \n",
      "\n",
      "                            2010          2011          2012          2013  \\\n",
      "Country                                                                      \n",
      "China               6.087192e+12  7.551546e+12  8.532185e+12  9.570471e+12   \n",
      "United States       1.504897e+13  1.559973e+13  1.625397e+13  1.688068e+13   \n",
      "India               1.675616e+12  1.823052e+12  1.827638e+12  1.856722e+12   \n",
      "Japan               5.759072e+12  6.233147e+12  6.272363e+12  5.212328e+12   \n",
      "United Kingdom      2.485483e+12  2.663806e+12  2.707090e+12  2.784854e+12   \n",
      "Germany             3.468154e+12  3.824829e+12  3.597897e+12  3.808086e+12   \n",
      "Russian Federation  1.524917e+12  2.045923e+12  2.208294e+12  2.292470e+12   \n",
      "Canada              1.617343e+12  1.793327e+12  1.828366e+12  1.846597e+12   \n",
      "Italy               2.144936e+12  2.306974e+12  2.097929e+12  2.153226e+12   \n",
      "South Korea         1.143672e+12  1.253290e+12  1.278047e+12  1.370633e+12   \n",
      "France              2.646230e+12  2.870409e+12  2.683007e+12  2.816078e+12   \n",
      "Spain               1.427989e+12  1.487569e+12  1.330995e+12  1.362187e+12   \n",
      "Australia           1.148838e+12  1.398611e+12  1.547532e+12  1.577123e+12   \n",
      "Brazil              2.208838e+12  2.616156e+12  2.465228e+12  2.472820e+12   \n",
      "\n",
      "                            2014          2015  \n",
      "Country                                         \n",
      "China               1.047562e+13  1.106157e+13  \n",
      "United States       1.760814e+13  1.829502e+13  \n",
      "India               2.039126e+12  2.103588e+12  \n",
      "Japan               4.896994e+12  4.444931e+12  \n",
      "United Kingdom      3.064708e+12  2.927911e+12  \n",
      "Germany             3.965801e+12  3.423568e+12  \n",
      "Russian Federation  2.059242e+12  1.363482e+12  \n",
      "Canada              1.805750e+12  1.556509e+12  \n",
      "Italy               2.173256e+12  1.845428e+12  \n",
      "South Korea         1.484489e+12  1.466039e+12  \n",
      "France              2.861236e+12  2.442483e+12  \n",
      "Spain               1.380245e+12  1.206165e+12  \n",
      "Australia           1.468265e+12  1.351296e+12  \n",
      "Brazil              2.456044e+12  1.802212e+12  \n"
     ]
    }
   ],
   "source": [
    "#Merging 3 files in one. For doing this step, we need to install openpyxl, to import xlsx file.\n",
    "def answer_one():\n",
    "    ScimEn= pd.read_excel('scimagojr country rank 1996-2023.xlsx')\n",
    "\n",
    "    #Choosing top 15 countries\n",
    "    ScimEn = ScimEn[ScimEn['Rank'] <= 15]\n",
    "\n",
    "    # Merging data\n",
    "    merged_df = ScimEn.merge(energy, how='inner', left_on='Country', right_on='Country')\n",
    "    merged_df = merged_df.merge(GDP, how='inner', left_on='Country', right_on='Country Name')\n",
    "\n",
    "    # Deleting duplicates in Country Name\n",
    "    merged_df.drop(columns=['Country Name'], inplace=True)\n",
    "\n",
    "    #Setting index\n",
    "    merged_df.set_index('Country', inplace=True)\n",
    "\n",
    "    # Chossing columns in right order\n",
    "    final_columns = [\n",
    "        'Rank', 'Documents', 'Citable documents', 'Citations', 'Self-citations', \n",
    "        'Citations per document', 'H index', 'Energy Supply', 'Energy Supply per Capita', \n",
    "        '% Renewable'\n",
    "    ] + [str(year) for year in range(2006, 2016)]\n",
    "    \n",
    "    final_df = merged_df[final_columns]\n",
    "\n",
    "    return final_df\n",
    "\n",
    "result = answer_one()\n",
    "\n",
    "print(result)"
   ]
  },
  {
   "cell_type": "code",
   "execution_count": 23,
   "metadata": {},
   "outputs": [
    {
     "name": "stdout",
     "output_type": "stream",
     "text": [
      "Country\n",
      "United States         1.572243e+13\n",
      "China                 6.927707e+12\n",
      "Japan                 5.239642e+12\n",
      "Germany               3.590729e+12\n",
      "United Kingdom        2.777505e+12\n",
      "France                2.692000e+12\n",
      "Italy                 2.152983e+12\n",
      "Brazil                1.988889e+12\n",
      "Russian Federation    1.666746e+12\n",
      "Canada                1.616359e+12\n",
      "India                 1.602352e+12\n",
      "Spain                 1.406644e+12\n",
      "South Korea           1.221328e+12\n",
      "Australia             1.207997e+12\n",
      "dtype: float64\n"
     ]
    }
   ],
   "source": [
    "#Question 2\n",
    "def answer_two():\n",
    "    Top15 = answer_one()\n",
    "\n",
    "    # Taking GDP only from 2006-2016\n",
    "    gdp_columns = [str(year) for year in range(2006, 2016)]\n",
    "\n",
    "    # Calculating average GDP for every country\n",
    "    avgGDP = Top15[gdp_columns].mean(axis=1)\n",
    "\n",
    "    # Sort the list in descending order\n",
    "    avgGDP = avgGDP.sort_values(ascending=False)\n",
    "\n",
    "    return avgGDP\n",
    "print (answer_two())"
   ]
  },
  {
   "cell_type": "code",
   "execution_count": 24,
   "metadata": {},
   "outputs": [
    {
     "name": "stdout",
     "output_type": "stream",
     "text": [
      "124621907951.68018\n"
     ]
    }
   ],
   "source": [
    "def answer_three():\n",
    "    Top15 = answer_one()\n",
    "\n",
    "    #Calculating average GDP and printing country in 6 place0\n",
    "    avgGDP = Top15[[str(year) for year in range(2006, 2016)]].mean(axis=1)\n",
    "    sixth_country = avgGDP.sort_values(ascending=False).index[5]\n",
    "\n",
    "    #Calculating GDP difference between 2015-2006\n",
    "    gdp_change = Top15.loc[sixth_country, '2015'] - Top15.loc[sixth_country, '2006']\n",
    "\n",
    "    return gdp_change\n",
    "print(answer_three())"
   ]
  },
  {
   "cell_type": "code",
   "execution_count": 25,
   "metadata": {},
   "outputs": [
    {
     "name": "stdout",
     "output_type": "stream",
     "text": [
      "('China', np.float64(0.6916510807463594))\n"
     ]
    }
   ],
   "source": [
    "def answer_four():\n",
    "    Top15 = answer_one()\n",
    "\n",
    "    # Calculating the Self-Citations / Citations ratio\n",
    "    Top15[\"Citation Ratio\"] = Top15[\"Self-citations\"] / Top15[\"Citations\"]\n",
    "\n",
    "    # Finding country with the biggest Ratio\n",
    "    max_country = Top15[\"Citation Ratio\"].idxmax()\n",
    "    max_value = Top15[\"Citation Ratio\"].max()\n",
    "\n",
    "    return (max_country, max_value)\n",
    "print(answer_four())"
   ]
  },
  {
   "cell_type": "code",
   "execution_count": 26,
   "metadata": {},
   "outputs": [
    {
     "name": "stdout",
     "output_type": "stream",
     "text": [
      "United States\n"
     ]
    }
   ],
   "source": [
    "def answer_five():\n",
    "    Top15 = answer_one()\n",
    "\n",
    "    # Counting population\n",
    "    Top15[\"Population Estimate\"] = Top15[\"Energy Supply\"] / Top15[\"Energy Supply per Capita\"]\n",
    "\n",
    "    # Counting country in the 3rd place in population list\n",
    "    third_most_populous = Top15[\"Population Estimate\"].sort_values(ascending=False).index[2]\n",
    "\n",
    "    return third_most_populous\n",
    "print(answer_five())"
   ]
  },
  {
   "cell_type": "code",
   "execution_count": 27,
   "metadata": {},
   "outputs": [
    {
     "name": "stdout",
     "output_type": "stream",
     "text": [
      "0.696319699358885\n"
     ]
    }
   ],
   "source": [
    "def answer_six():\n",
    "    Top15 = answer_one()\n",
    "\n",
    "    # Population Estimate\n",
    "    Top15[\"Population Estimate\"] = Top15[\"Energy Supply\"] / Top15[\"Energy Supply per Capita\"]\n",
    "\n",
    "    # Citable documents per capita\n",
    "    Top15[\"Citable Docs per Capita\"] = Top15[\"Citable documents\"] / Top15[\"Population Estimate\"]\n",
    "\n",
    "    # Calculating the correlation\n",
    "    correlation = Top15[\"Citable Docs per Capita\"].corr(Top15[\"Energy Supply per Capita\"])\n",
    "\n",
    "    return correlation\n",
    "print(answer_six())"
   ]
  },
  {
   "cell_type": "code",
   "execution_count": 28,
   "metadata": {},
   "outputs": [
    {
     "name": "stdout",
     "output_type": "stream",
     "text": [
      "               size               sum              mean           std\n",
      "Continent                                                            \n",
      "Asia              4   2821590756.3585  705397689.089625  7.138779e+08\n",
      "Australia         1   23316017.316017   23316017.316017           NaN\n",
      "Europe            6  457929667.216372   76321611.202729  3.464767e+07\n",
      "North America     2   352855249.48025  176427624.740125  1.996696e+08\n",
      "South America     1  205915254.237288  205915254.237288           NaN\n"
     ]
    }
   ],
   "source": [
    "def answer_seven():\n",
    "    Top15 = answer_one()\n",
    "\n",
    "    # Dictionary of continents\n",
    "    ContinentDict = {\n",
    "        'China': 'Asia', \n",
    "        'United States': 'North America', \n",
    "        'Japan': 'Asia', \n",
    "        'United Kingdom': 'Europe', \n",
    "        'Russian Federation': 'Europe', \n",
    "        'Canada': 'North America', \n",
    "        'Germany': 'Europe', \n",
    "        'India': 'Asia',\n",
    "        'France': 'Europe', \n",
    "        'South Korea': 'Asia', \n",
    "        'Italy': 'Europe', \n",
    "        'Spain': 'Europe', \n",
    "        'Iran': 'Asia',\n",
    "        'Australia': 'Australia', \n",
    "        'Brazil': 'South America'\n",
    "    }\n",
    "\n",
    "    # Creating a 'Continent' column in Top15 using a dictionary\n",
    "    Top15['Continent'] = Top15.index.map(ContinentDict)\n",
    "\n",
    "    # Population Estimate\n",
    "    Top15[\"Population Estimate\"] = Top15[\"Energy Supply\"] / Top15[\"Energy Supply per Capita\"]\n",
    "\n",
    "    #Group by continent and calculate needed statistics\n",
    "    continent_stats = Top15.groupby('Continent')['Population Estimate'].agg(['size', 'sum', 'mean', 'std'])\n",
    "\n",
    "    return continent_stats\n",
    "print(answer_seven())"
   ]
  }
 ],
 "metadata": {
  "kernelspec": {
   "display_name": "Python 3",
   "language": "python",
   "name": "python3"
  },
  "language_info": {
   "codemirror_mode": {
    "name": "ipython",
    "version": 3
   },
   "file_extension": ".py",
   "mimetype": "text/x-python",
   "name": "python",
   "nbconvert_exporter": "python",
   "pygments_lexer": "ipython3",
   "version": "3.12.2"
  }
 },
 "nbformat": 4,
 "nbformat_minor": 2
}
